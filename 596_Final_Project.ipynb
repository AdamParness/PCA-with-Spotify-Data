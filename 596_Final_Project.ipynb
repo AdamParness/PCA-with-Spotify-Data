{
  "cells": [
    {
      "cell_type": "markdown",
      "id": "d72e5c68",
      "metadata": {
        "id": "d72e5c68"
      },
      "source": [
        "## Neccessary packages/libraries"
      ]
    },
    {
      "cell_type": "code",
      "execution_count": null,
      "id": "fe87bed4",
      "metadata": {
        "id": "fe87bed4"
      },
      "outputs": [],
      "source": [
        "import numpy as np\n",
        "import pandas as pd\n",
        "import matplotlib.pyplot as plt\n",
        "\n",
        "from sklearn.preprocessing import scale\n",
        "from sklearn.linear_model import LinearRegression, RidgeCV, LassoCV\n",
        "from sklearn.model_selection import KFold, cross_val_score, train_test_split\n",
        "from sklearn.metrics import mean_squared_error\n",
        "from sklearn.decomposition import PCA\n",
        "from scipy import stats\n",
        "import seaborn as sns"
      ]
    },
    {
      "cell_type": "code",
      "execution_count": null,
      "id": "a9825504",
      "metadata": {
        "scrolled": true,
        "id": "a9825504",
        "outputId": "eab622a8-2246-49f1-a526-23bfaae2cafb"
      },
      "outputs": [
        {
          "data": {
            "text/html": [
              "<div>\n",
              "<style scoped>\n",
              "    .dataframe tbody tr th:only-of-type {\n",
              "        vertical-align: middle;\n",
              "    }\n",
              "\n",
              "    .dataframe tbody tr th {\n",
              "        vertical-align: top;\n",
              "    }\n",
              "\n",
              "    .dataframe thead th {\n",
              "        text-align: right;\n",
              "    }\n",
              "</style>\n",
              "<table border=\"1\" class=\"dataframe\">\n",
              "  <thead>\n",
              "    <tr style=\"text-align: right;\">\n",
              "      <th></th>\n",
              "      <th>track_name</th>\n",
              "      <th>artist(s)_name</th>\n",
              "      <th>artist_count</th>\n",
              "      <th>released_year</th>\n",
              "      <th>released_month</th>\n",
              "      <th>released_day</th>\n",
              "      <th>in_spotify_playlists</th>\n",
              "      <th>in_spotify_charts</th>\n",
              "      <th>streams</th>\n",
              "      <th>in_apple_playlists</th>\n",
              "      <th>...</th>\n",
              "      <th>bpm</th>\n",
              "      <th>key</th>\n",
              "      <th>mode</th>\n",
              "      <th>danceability_%</th>\n",
              "      <th>valence_%</th>\n",
              "      <th>energy_%</th>\n",
              "      <th>acousticness_%</th>\n",
              "      <th>instrumentalness_%</th>\n",
              "      <th>liveness_%</th>\n",
              "      <th>speechiness_%</th>\n",
              "    </tr>\n",
              "  </thead>\n",
              "  <tbody>\n",
              "    <tr>\n",
              "      <th>0</th>\n",
              "      <td>Seven (feat. Latto) (Explicit Ver.)</td>\n",
              "      <td>Latto, Jung Kook</td>\n",
              "      <td>2</td>\n",
              "      <td>2023</td>\n",
              "      <td>7</td>\n",
              "      <td>14</td>\n",
              "      <td>553</td>\n",
              "      <td>147</td>\n",
              "      <td>141381703</td>\n",
              "      <td>43</td>\n",
              "      <td>...</td>\n",
              "      <td>125</td>\n",
              "      <td>B</td>\n",
              "      <td>Major</td>\n",
              "      <td>80</td>\n",
              "      <td>89</td>\n",
              "      <td>83</td>\n",
              "      <td>31</td>\n",
              "      <td>0</td>\n",
              "      <td>8</td>\n",
              "      <td>4</td>\n",
              "    </tr>\n",
              "    <tr>\n",
              "      <th>1</th>\n",
              "      <td>LALA</td>\n",
              "      <td>Myke Towers</td>\n",
              "      <td>1</td>\n",
              "      <td>2023</td>\n",
              "      <td>3</td>\n",
              "      <td>23</td>\n",
              "      <td>1474</td>\n",
              "      <td>48</td>\n",
              "      <td>133716286</td>\n",
              "      <td>48</td>\n",
              "      <td>...</td>\n",
              "      <td>92</td>\n",
              "      <td>C#</td>\n",
              "      <td>Major</td>\n",
              "      <td>71</td>\n",
              "      <td>61</td>\n",
              "      <td>74</td>\n",
              "      <td>7</td>\n",
              "      <td>0</td>\n",
              "      <td>10</td>\n",
              "      <td>4</td>\n",
              "    </tr>\n",
              "    <tr>\n",
              "      <th>2</th>\n",
              "      <td>vampire</td>\n",
              "      <td>Olivia Rodrigo</td>\n",
              "      <td>1</td>\n",
              "      <td>2023</td>\n",
              "      <td>6</td>\n",
              "      <td>30</td>\n",
              "      <td>1397</td>\n",
              "      <td>113</td>\n",
              "      <td>140003974</td>\n",
              "      <td>94</td>\n",
              "      <td>...</td>\n",
              "      <td>138</td>\n",
              "      <td>F</td>\n",
              "      <td>Major</td>\n",
              "      <td>51</td>\n",
              "      <td>32</td>\n",
              "      <td>53</td>\n",
              "      <td>17</td>\n",
              "      <td>0</td>\n",
              "      <td>31</td>\n",
              "      <td>6</td>\n",
              "    </tr>\n",
              "    <tr>\n",
              "      <th>3</th>\n",
              "      <td>Cruel Summer</td>\n",
              "      <td>Taylor Swift</td>\n",
              "      <td>1</td>\n",
              "      <td>2019</td>\n",
              "      <td>8</td>\n",
              "      <td>23</td>\n",
              "      <td>7858</td>\n",
              "      <td>100</td>\n",
              "      <td>800840817</td>\n",
              "      <td>116</td>\n",
              "      <td>...</td>\n",
              "      <td>170</td>\n",
              "      <td>A</td>\n",
              "      <td>Major</td>\n",
              "      <td>55</td>\n",
              "      <td>58</td>\n",
              "      <td>72</td>\n",
              "      <td>11</td>\n",
              "      <td>0</td>\n",
              "      <td>11</td>\n",
              "      <td>15</td>\n",
              "    </tr>\n",
              "    <tr>\n",
              "      <th>4</th>\n",
              "      <td>WHERE SHE GOES</td>\n",
              "      <td>Bad Bunny</td>\n",
              "      <td>1</td>\n",
              "      <td>2023</td>\n",
              "      <td>5</td>\n",
              "      <td>18</td>\n",
              "      <td>3133</td>\n",
              "      <td>50</td>\n",
              "      <td>303236322</td>\n",
              "      <td>84</td>\n",
              "      <td>...</td>\n",
              "      <td>144</td>\n",
              "      <td>A</td>\n",
              "      <td>Minor</td>\n",
              "      <td>65</td>\n",
              "      <td>23</td>\n",
              "      <td>80</td>\n",
              "      <td>14</td>\n",
              "      <td>63</td>\n",
              "      <td>11</td>\n",
              "      <td>6</td>\n",
              "    </tr>\n",
              "    <tr>\n",
              "      <th>...</th>\n",
              "      <td>...</td>\n",
              "      <td>...</td>\n",
              "      <td>...</td>\n",
              "      <td>...</td>\n",
              "      <td>...</td>\n",
              "      <td>...</td>\n",
              "      <td>...</td>\n",
              "      <td>...</td>\n",
              "      <td>...</td>\n",
              "      <td>...</td>\n",
              "      <td>...</td>\n",
              "      <td>...</td>\n",
              "      <td>...</td>\n",
              "      <td>...</td>\n",
              "      <td>...</td>\n",
              "      <td>...</td>\n",
              "      <td>...</td>\n",
              "      <td>...</td>\n",
              "      <td>...</td>\n",
              "      <td>...</td>\n",
              "      <td>...</td>\n",
              "    </tr>\n",
              "    <tr>\n",
              "      <th>948</th>\n",
              "      <td>My Mind &amp; Me</td>\n",
              "      <td>Selena Gomez</td>\n",
              "      <td>1</td>\n",
              "      <td>2022</td>\n",
              "      <td>11</td>\n",
              "      <td>3</td>\n",
              "      <td>953</td>\n",
              "      <td>0</td>\n",
              "      <td>91473363</td>\n",
              "      <td>61</td>\n",
              "      <td>...</td>\n",
              "      <td>144</td>\n",
              "      <td>A</td>\n",
              "      <td>Major</td>\n",
              "      <td>60</td>\n",
              "      <td>24</td>\n",
              "      <td>39</td>\n",
              "      <td>57</td>\n",
              "      <td>0</td>\n",
              "      <td>8</td>\n",
              "      <td>3</td>\n",
              "    </tr>\n",
              "    <tr>\n",
              "      <th>949</th>\n",
              "      <td>Bigger Than The Whole Sky</td>\n",
              "      <td>Taylor Swift</td>\n",
              "      <td>1</td>\n",
              "      <td>2022</td>\n",
              "      <td>10</td>\n",
              "      <td>21</td>\n",
              "      <td>1180</td>\n",
              "      <td>0</td>\n",
              "      <td>121871870</td>\n",
              "      <td>4</td>\n",
              "      <td>...</td>\n",
              "      <td>166</td>\n",
              "      <td>F#</td>\n",
              "      <td>Major</td>\n",
              "      <td>42</td>\n",
              "      <td>7</td>\n",
              "      <td>24</td>\n",
              "      <td>83</td>\n",
              "      <td>1</td>\n",
              "      <td>12</td>\n",
              "      <td>6</td>\n",
              "    </tr>\n",
              "    <tr>\n",
              "      <th>950</th>\n",
              "      <td>A Veces (feat. Feid)</td>\n",
              "      <td>Feid, Paulo Londra</td>\n",
              "      <td>2</td>\n",
              "      <td>2022</td>\n",
              "      <td>11</td>\n",
              "      <td>3</td>\n",
              "      <td>573</td>\n",
              "      <td>0</td>\n",
              "      <td>73513683</td>\n",
              "      <td>2</td>\n",
              "      <td>...</td>\n",
              "      <td>92</td>\n",
              "      <td>C#</td>\n",
              "      <td>Major</td>\n",
              "      <td>80</td>\n",
              "      <td>81</td>\n",
              "      <td>67</td>\n",
              "      <td>4</td>\n",
              "      <td>0</td>\n",
              "      <td>8</td>\n",
              "      <td>6</td>\n",
              "    </tr>\n",
              "    <tr>\n",
              "      <th>951</th>\n",
              "      <td>En La De Ella</td>\n",
              "      <td>Feid, Sech, Jhayco</td>\n",
              "      <td>3</td>\n",
              "      <td>2022</td>\n",
              "      <td>10</td>\n",
              "      <td>20</td>\n",
              "      <td>1320</td>\n",
              "      <td>0</td>\n",
              "      <td>133895612</td>\n",
              "      <td>29</td>\n",
              "      <td>...</td>\n",
              "      <td>97</td>\n",
              "      <td>C#</td>\n",
              "      <td>Major</td>\n",
              "      <td>82</td>\n",
              "      <td>67</td>\n",
              "      <td>77</td>\n",
              "      <td>8</td>\n",
              "      <td>0</td>\n",
              "      <td>12</td>\n",
              "      <td>5</td>\n",
              "    </tr>\n",
              "    <tr>\n",
              "      <th>952</th>\n",
              "      <td>Alone</td>\n",
              "      <td>Burna Boy</td>\n",
              "      <td>1</td>\n",
              "      <td>2022</td>\n",
              "      <td>11</td>\n",
              "      <td>4</td>\n",
              "      <td>782</td>\n",
              "      <td>2</td>\n",
              "      <td>96007391</td>\n",
              "      <td>27</td>\n",
              "      <td>...</td>\n",
              "      <td>90</td>\n",
              "      <td>E</td>\n",
              "      <td>Minor</td>\n",
              "      <td>61</td>\n",
              "      <td>32</td>\n",
              "      <td>67</td>\n",
              "      <td>15</td>\n",
              "      <td>0</td>\n",
              "      <td>11</td>\n",
              "      <td>5</td>\n",
              "    </tr>\n",
              "  </tbody>\n",
              "</table>\n",
              "<p>953 rows × 24 columns</p>\n",
              "</div>"
            ],
            "text/plain": [
              "                              track_name      artist(s)_name  artist_count  \\\n",
              "0    Seven (feat. Latto) (Explicit Ver.)    Latto, Jung Kook             2   \n",
              "1                                   LALA         Myke Towers             1   \n",
              "2                                vampire      Olivia Rodrigo             1   \n",
              "3                           Cruel Summer        Taylor Swift             1   \n",
              "4                         WHERE SHE GOES           Bad Bunny             1   \n",
              "..                                   ...                 ...           ...   \n",
              "948                         My Mind & Me        Selena Gomez             1   \n",
              "949            Bigger Than The Whole Sky        Taylor Swift             1   \n",
              "950                 A Veces (feat. Feid)  Feid, Paulo Londra             2   \n",
              "951                        En La De Ella  Feid, Sech, Jhayco             3   \n",
              "952                                Alone           Burna Boy             1   \n",
              "\n",
              "     released_year  released_month  released_day  in_spotify_playlists  \\\n",
              "0             2023               7            14                   553   \n",
              "1             2023               3            23                  1474   \n",
              "2             2023               6            30                  1397   \n",
              "3             2019               8            23                  7858   \n",
              "4             2023               5            18                  3133   \n",
              "..             ...             ...           ...                   ...   \n",
              "948           2022              11             3                   953   \n",
              "949           2022              10            21                  1180   \n",
              "950           2022              11             3                   573   \n",
              "951           2022              10            20                  1320   \n",
              "952           2022              11             4                   782   \n",
              "\n",
              "     in_spotify_charts    streams  in_apple_playlists  ...  bpm key   mode  \\\n",
              "0                  147  141381703                  43  ...  125   B  Major   \n",
              "1                   48  133716286                  48  ...   92  C#  Major   \n",
              "2                  113  140003974                  94  ...  138   F  Major   \n",
              "3                  100  800840817                 116  ...  170   A  Major   \n",
              "4                   50  303236322                  84  ...  144   A  Minor   \n",
              "..                 ...        ...                 ...  ...  ...  ..    ...   \n",
              "948                  0   91473363                  61  ...  144   A  Major   \n",
              "949                  0  121871870                   4  ...  166  F#  Major   \n",
              "950                  0   73513683                   2  ...   92  C#  Major   \n",
              "951                  0  133895612                  29  ...   97  C#  Major   \n",
              "952                  2   96007391                  27  ...   90   E  Minor   \n",
              "\n",
              "    danceability_%  valence_% energy_% acousticness_%  instrumentalness_%  \\\n",
              "0               80         89       83             31                   0   \n",
              "1               71         61       74              7                   0   \n",
              "2               51         32       53             17                   0   \n",
              "3               55         58       72             11                   0   \n",
              "4               65         23       80             14                  63   \n",
              "..             ...        ...      ...            ...                 ...   \n",
              "948             60         24       39             57                   0   \n",
              "949             42          7       24             83                   1   \n",
              "950             80         81       67              4                   0   \n",
              "951             82         67       77              8                   0   \n",
              "952             61         32       67             15                   0   \n",
              "\n",
              "     liveness_%  speechiness_%  \n",
              "0             8              4  \n",
              "1            10              4  \n",
              "2            31              6  \n",
              "3            11             15  \n",
              "4            11              6  \n",
              "..          ...            ...  \n",
              "948           8              3  \n",
              "949          12              6  \n",
              "950           8              6  \n",
              "951          12              5  \n",
              "952          11              5  \n",
              "\n",
              "[953 rows x 24 columns]"
            ]
          },
          "execution_count": 2,
          "metadata": {},
          "output_type": "execute_result"
        }
      ],
      "source": [
        "df = pd.read_csv(\"/Users/Emily_Vanilla/Downloads/spotify-2023.csv\", encoding= 'latin-1')\n",
        "df"
      ]
    },
    {
      "cell_type": "markdown",
      "id": "7b88c104",
      "metadata": {
        "id": "7b88c104"
      },
      "source": [
        "## Remove row and convert to integers"
      ]
    },
    {
      "cell_type": "code",
      "execution_count": null,
      "id": "90b830a4",
      "metadata": {
        "id": "90b830a4",
        "outputId": "b187e5a2-05fe-4134-a2b2-1fa4e5667a98"
      },
      "outputs": [
        {
          "name": "stdout",
          "output_type": "stream",
          "text": [
            "574\n"
          ]
        }
      ],
      "source": [
        "for ii in range (0,953):\n",
        "    if df['streams'].iloc[ii] == 'BPM110KeyAModeMajorDanceability53Valence75Energy69Acousticness7Instrumentalness0Liveness17Speechiness3':\n",
        "        print(ii)\n",
        "df = df.drop(574)"
      ]
    },
    {
      "cell_type": "code",
      "execution_count": null,
      "id": "9df5d641",
      "metadata": {
        "scrolled": true,
        "id": "9df5d641",
        "outputId": "3535b228-ddbf-4b70-c0fb-be198bffa3c3"
      },
      "outputs": [
        {
          "data": {
            "text/plain": [
              "track_name              object\n",
              "artist(s)_name          object\n",
              "artist_count             int64\n",
              "released_year            int64\n",
              "released_month           int64\n",
              "released_day             int64\n",
              "in_spotify_playlists     int64\n",
              "in_spotify_charts        int64\n",
              "streams                  int64\n",
              "in_apple_playlists       int64\n",
              "in_apple_charts          int64\n",
              "in_deezer_playlists     object\n",
              "in_deezer_charts         int64\n",
              "in_shazam_charts        object\n",
              "bpm                      int64\n",
              "key                     object\n",
              "mode                    object\n",
              "danceability_%           int64\n",
              "valence_%                int64\n",
              "energy_%                 int64\n",
              "acousticness_%           int64\n",
              "instrumentalness_%       int64\n",
              "liveness_%               int64\n",
              "speechiness_%            int64\n",
              "dtype: object"
            ]
          },
          "execution_count": 4,
          "metadata": {},
          "output_type": "execute_result"
        }
      ],
      "source": [
        "df['streams'] = df['streams'].astype(str).astype(int)\n",
        "df.dtypes"
      ]
    },
    {
      "cell_type": "markdown",
      "id": "4e69e543",
      "metadata": {
        "id": "4e69e543"
      },
      "source": [
        "## Select only integer variables"
      ]
    },
    {
      "cell_type": "code",
      "execution_count": null,
      "id": "59140422",
      "metadata": {
        "scrolled": false,
        "id": "59140422",
        "outputId": "741f2774-ef62-4fc5-b87d-3c53c7e09ee1"
      },
      "outputs": [
        {
          "data": {
            "text/html": [
              "<div>\n",
              "<style scoped>\n",
              "    .dataframe tbody tr th:only-of-type {\n",
              "        vertical-align: middle;\n",
              "    }\n",
              "\n",
              "    .dataframe tbody tr th {\n",
              "        vertical-align: top;\n",
              "    }\n",
              "\n",
              "    .dataframe thead th {\n",
              "        text-align: right;\n",
              "    }\n",
              "</style>\n",
              "<table border=\"1\" class=\"dataframe\">\n",
              "  <thead>\n",
              "    <tr style=\"text-align: right;\">\n",
              "      <th></th>\n",
              "      <th>artist_count</th>\n",
              "      <th>released_year</th>\n",
              "      <th>released_month</th>\n",
              "      <th>released_day</th>\n",
              "      <th>in_spotify_playlists</th>\n",
              "      <th>in_spotify_charts</th>\n",
              "      <th>streams</th>\n",
              "      <th>in_apple_playlists</th>\n",
              "      <th>in_apple_charts</th>\n",
              "      <th>in_deezer_charts</th>\n",
              "      <th>bpm</th>\n",
              "      <th>danceability_%</th>\n",
              "      <th>valence_%</th>\n",
              "      <th>energy_%</th>\n",
              "      <th>acousticness_%</th>\n",
              "      <th>instrumentalness_%</th>\n",
              "      <th>liveness_%</th>\n",
              "      <th>speechiness_%</th>\n",
              "    </tr>\n",
              "  </thead>\n",
              "  <tbody>\n",
              "    <tr>\n",
              "      <th>0</th>\n",
              "      <td>2</td>\n",
              "      <td>2023</td>\n",
              "      <td>7</td>\n",
              "      <td>14</td>\n",
              "      <td>553</td>\n",
              "      <td>147</td>\n",
              "      <td>141381703</td>\n",
              "      <td>43</td>\n",
              "      <td>263</td>\n",
              "      <td>10</td>\n",
              "      <td>125</td>\n",
              "      <td>80</td>\n",
              "      <td>89</td>\n",
              "      <td>83</td>\n",
              "      <td>31</td>\n",
              "      <td>0</td>\n",
              "      <td>8</td>\n",
              "      <td>4</td>\n",
              "    </tr>\n",
              "    <tr>\n",
              "      <th>1</th>\n",
              "      <td>1</td>\n",
              "      <td>2023</td>\n",
              "      <td>3</td>\n",
              "      <td>23</td>\n",
              "      <td>1474</td>\n",
              "      <td>48</td>\n",
              "      <td>133716286</td>\n",
              "      <td>48</td>\n",
              "      <td>126</td>\n",
              "      <td>14</td>\n",
              "      <td>92</td>\n",
              "      <td>71</td>\n",
              "      <td>61</td>\n",
              "      <td>74</td>\n",
              "      <td>7</td>\n",
              "      <td>0</td>\n",
              "      <td>10</td>\n",
              "      <td>4</td>\n",
              "    </tr>\n",
              "    <tr>\n",
              "      <th>2</th>\n",
              "      <td>1</td>\n",
              "      <td>2023</td>\n",
              "      <td>6</td>\n",
              "      <td>30</td>\n",
              "      <td>1397</td>\n",
              "      <td>113</td>\n",
              "      <td>140003974</td>\n",
              "      <td>94</td>\n",
              "      <td>207</td>\n",
              "      <td>14</td>\n",
              "      <td>138</td>\n",
              "      <td>51</td>\n",
              "      <td>32</td>\n",
              "      <td>53</td>\n",
              "      <td>17</td>\n",
              "      <td>0</td>\n",
              "      <td>31</td>\n",
              "      <td>6</td>\n",
              "    </tr>\n",
              "    <tr>\n",
              "      <th>3</th>\n",
              "      <td>1</td>\n",
              "      <td>2019</td>\n",
              "      <td>8</td>\n",
              "      <td>23</td>\n",
              "      <td>7858</td>\n",
              "      <td>100</td>\n",
              "      <td>800840817</td>\n",
              "      <td>116</td>\n",
              "      <td>207</td>\n",
              "      <td>12</td>\n",
              "      <td>170</td>\n",
              "      <td>55</td>\n",
              "      <td>58</td>\n",
              "      <td>72</td>\n",
              "      <td>11</td>\n",
              "      <td>0</td>\n",
              "      <td>11</td>\n",
              "      <td>15</td>\n",
              "    </tr>\n",
              "    <tr>\n",
              "      <th>4</th>\n",
              "      <td>1</td>\n",
              "      <td>2023</td>\n",
              "      <td>5</td>\n",
              "      <td>18</td>\n",
              "      <td>3133</td>\n",
              "      <td>50</td>\n",
              "      <td>303236322</td>\n",
              "      <td>84</td>\n",
              "      <td>133</td>\n",
              "      <td>15</td>\n",
              "      <td>144</td>\n",
              "      <td>65</td>\n",
              "      <td>23</td>\n",
              "      <td>80</td>\n",
              "      <td>14</td>\n",
              "      <td>63</td>\n",
              "      <td>11</td>\n",
              "      <td>6</td>\n",
              "    </tr>\n",
              "    <tr>\n",
              "      <th>...</th>\n",
              "      <td>...</td>\n",
              "      <td>...</td>\n",
              "      <td>...</td>\n",
              "      <td>...</td>\n",
              "      <td>...</td>\n",
              "      <td>...</td>\n",
              "      <td>...</td>\n",
              "      <td>...</td>\n",
              "      <td>...</td>\n",
              "      <td>...</td>\n",
              "      <td>...</td>\n",
              "      <td>...</td>\n",
              "      <td>...</td>\n",
              "      <td>...</td>\n",
              "      <td>...</td>\n",
              "      <td>...</td>\n",
              "      <td>...</td>\n",
              "      <td>...</td>\n",
              "    </tr>\n",
              "    <tr>\n",
              "      <th>948</th>\n",
              "      <td>1</td>\n",
              "      <td>2022</td>\n",
              "      <td>11</td>\n",
              "      <td>3</td>\n",
              "      <td>953</td>\n",
              "      <td>0</td>\n",
              "      <td>91473363</td>\n",
              "      <td>61</td>\n",
              "      <td>13</td>\n",
              "      <td>1</td>\n",
              "      <td>144</td>\n",
              "      <td>60</td>\n",
              "      <td>24</td>\n",
              "      <td>39</td>\n",
              "      <td>57</td>\n",
              "      <td>0</td>\n",
              "      <td>8</td>\n",
              "      <td>3</td>\n",
              "    </tr>\n",
              "    <tr>\n",
              "      <th>949</th>\n",
              "      <td>1</td>\n",
              "      <td>2022</td>\n",
              "      <td>10</td>\n",
              "      <td>21</td>\n",
              "      <td>1180</td>\n",
              "      <td>0</td>\n",
              "      <td>121871870</td>\n",
              "      <td>4</td>\n",
              "      <td>0</td>\n",
              "      <td>0</td>\n",
              "      <td>166</td>\n",
              "      <td>42</td>\n",
              "      <td>7</td>\n",
              "      <td>24</td>\n",
              "      <td>83</td>\n",
              "      <td>1</td>\n",
              "      <td>12</td>\n",
              "      <td>6</td>\n",
              "    </tr>\n",
              "    <tr>\n",
              "      <th>950</th>\n",
              "      <td>2</td>\n",
              "      <td>2022</td>\n",
              "      <td>11</td>\n",
              "      <td>3</td>\n",
              "      <td>573</td>\n",
              "      <td>0</td>\n",
              "      <td>73513683</td>\n",
              "      <td>2</td>\n",
              "      <td>0</td>\n",
              "      <td>0</td>\n",
              "      <td>92</td>\n",
              "      <td>80</td>\n",
              "      <td>81</td>\n",
              "      <td>67</td>\n",
              "      <td>4</td>\n",
              "      <td>0</td>\n",
              "      <td>8</td>\n",
              "      <td>6</td>\n",
              "    </tr>\n",
              "    <tr>\n",
              "      <th>951</th>\n",
              "      <td>3</td>\n",
              "      <td>2022</td>\n",
              "      <td>10</td>\n",
              "      <td>20</td>\n",
              "      <td>1320</td>\n",
              "      <td>0</td>\n",
              "      <td>133895612</td>\n",
              "      <td>29</td>\n",
              "      <td>26</td>\n",
              "      <td>0</td>\n",
              "      <td>97</td>\n",
              "      <td>82</td>\n",
              "      <td>67</td>\n",
              "      <td>77</td>\n",
              "      <td>8</td>\n",
              "      <td>0</td>\n",
              "      <td>12</td>\n",
              "      <td>5</td>\n",
              "    </tr>\n",
              "    <tr>\n",
              "      <th>952</th>\n",
              "      <td>1</td>\n",
              "      <td>2022</td>\n",
              "      <td>11</td>\n",
              "      <td>4</td>\n",
              "      <td>782</td>\n",
              "      <td>2</td>\n",
              "      <td>96007391</td>\n",
              "      <td>27</td>\n",
              "      <td>18</td>\n",
              "      <td>1</td>\n",
              "      <td>90</td>\n",
              "      <td>61</td>\n",
              "      <td>32</td>\n",
              "      <td>67</td>\n",
              "      <td>15</td>\n",
              "      <td>0</td>\n",
              "      <td>11</td>\n",
              "      <td>5</td>\n",
              "    </tr>\n",
              "  </tbody>\n",
              "</table>\n",
              "<p>952 rows × 18 columns</p>\n",
              "</div>"
            ],
            "text/plain": [
              "     artist_count  released_year  released_month  released_day  \\\n",
              "0               2           2023               7            14   \n",
              "1               1           2023               3            23   \n",
              "2               1           2023               6            30   \n",
              "3               1           2019               8            23   \n",
              "4               1           2023               5            18   \n",
              "..            ...            ...             ...           ...   \n",
              "948             1           2022              11             3   \n",
              "949             1           2022              10            21   \n",
              "950             2           2022              11             3   \n",
              "951             3           2022              10            20   \n",
              "952             1           2022              11             4   \n",
              "\n",
              "     in_spotify_playlists  in_spotify_charts    streams  in_apple_playlists  \\\n",
              "0                     553                147  141381703                  43   \n",
              "1                    1474                 48  133716286                  48   \n",
              "2                    1397                113  140003974                  94   \n",
              "3                    7858                100  800840817                 116   \n",
              "4                    3133                 50  303236322                  84   \n",
              "..                    ...                ...        ...                 ...   \n",
              "948                   953                  0   91473363                  61   \n",
              "949                  1180                  0  121871870                   4   \n",
              "950                   573                  0   73513683                   2   \n",
              "951                  1320                  0  133895612                  29   \n",
              "952                   782                  2   96007391                  27   \n",
              "\n",
              "     in_apple_charts  in_deezer_charts  bpm  danceability_%  valence_%  \\\n",
              "0                263                10  125              80         89   \n",
              "1                126                14   92              71         61   \n",
              "2                207                14  138              51         32   \n",
              "3                207                12  170              55         58   \n",
              "4                133                15  144              65         23   \n",
              "..               ...               ...  ...             ...        ...   \n",
              "948               13                 1  144              60         24   \n",
              "949                0                 0  166              42          7   \n",
              "950                0                 0   92              80         81   \n",
              "951               26                 0   97              82         67   \n",
              "952               18                 1   90              61         32   \n",
              "\n",
              "     energy_%  acousticness_%  instrumentalness_%  liveness_%  speechiness_%  \n",
              "0          83              31                   0           8              4  \n",
              "1          74               7                   0          10              4  \n",
              "2          53              17                   0          31              6  \n",
              "3          72              11                   0          11             15  \n",
              "4          80              14                  63          11              6  \n",
              "..        ...             ...                 ...         ...            ...  \n",
              "948        39              57                   0           8              3  \n",
              "949        24              83                   1          12              6  \n",
              "950        67               4                   0           8              6  \n",
              "951        77               8                   0          12              5  \n",
              "952        67              15                   0          11              5  \n",
              "\n",
              "[952 rows x 18 columns]"
            ]
          },
          "execution_count": 5,
          "metadata": {},
          "output_type": "execute_result"
        }
      ],
      "source": [
        "numerics = ['int64']\n",
        "df_int = df.select_dtypes(include=numerics)\n",
        "df_int"
      ]
    },
    {
      "cell_type": "code",
      "execution_count": null,
      "id": "eefc5751",
      "metadata": {
        "id": "eefc5751"
      },
      "outputs": [],
      "source": [
        "y = df_int['streams']\n",
        "X = df_int.drop('streams', axis = 1)"
      ]
    },
    {
      "cell_type": "markdown",
      "id": "9e32bb50",
      "metadata": {
        "id": "9e32bb50"
      },
      "source": [
        "## Split into training and test"
      ]
    },
    {
      "cell_type": "code",
      "execution_count": null,
      "id": "ad1354b0",
      "metadata": {
        "id": "ad1354b0"
      },
      "outputs": [],
      "source": [
        "X_train, X_test, y_train, y_test = train_test_split(X, y, test_size=0.2, random_state=42)"
      ]
    },
    {
      "cell_type": "markdown",
      "id": "9216e213",
      "metadata": {
        "id": "9216e213"
      },
      "source": [
        "## Scale X"
      ]
    },
    {
      "cell_type": "code",
      "execution_count": null,
      "id": "a1cc8ffb",
      "metadata": {
        "id": "a1cc8ffb",
        "outputId": "b3c02448-367a-49cb-b1de-26710c8993dd"
      },
      "outputs": [
        {
          "data": {
            "text/plain": [
              "array([[-0.61187336,  0.33259251,  1.11350292, ..., -0.18649792,\n",
              "         0.95111296, -0.72740452],\n",
              "       [-0.61187336, -0.02769632, -0.8663469 , ..., -0.18649792,\n",
              "        -0.22507548, -0.72740452],\n",
              "       [-0.61187336,  0.33259251, -1.43201828, ..., -0.18649792,\n",
              "         0.36301874,  0.11099736],\n",
              "       ...,\n",
              "       [-0.61187336,  0.33259251, -0.30067552, ..., -0.18649792,\n",
              "        -0.59263437, -0.62260428],\n",
              "       [-0.61187336,  0.33259251,  0.83066724, ..., -0.18649792,\n",
              "        -0.44561081,  0.00619712],\n",
              "       [-0.61187336,  0.42266471, -0.58351121, ..., -0.18649792,\n",
              "        -0.44561081, -0.51780405]])"
            ]
          },
          "execution_count": 8,
          "metadata": {},
          "output_type": "execute_result"
        }
      ],
      "source": [
        "# Run standardization on X variables\n",
        "X_train_scaled, X_test_scaled = scale(X_train), scale(X_test)\n",
        "X_train_scaled"
      ]
    },
    {
      "cell_type": "markdown",
      "id": "c9760f92",
      "metadata": {
        "id": "c9760f92"
      },
      "source": [
        "standardize each original feature to be on the same scale before generating the principal components. principal component computation is based on variance, which is impacted by the range of the features. We use the scale() method from sklearn.preprocessing to standardize the original features, i.e., center to the mean and scale to unit variance.\n"
      ]
    },
    {
      "cell_type": "code",
      "execution_count": null,
      "id": "6e8166d0",
      "metadata": {
        "id": "6e8166d0",
        "outputId": "881877bb-6e02-4edd-ea0b-e91dc00c8730"
      },
      "outputs": [
        {
          "data": {
            "image/png": "[encoded data removed]",
            "text/plain": [
              "<Figure size 432x288 with 2 Axes>"
            ]
          },
          "metadata": {
            "needs_background": "light"
          },
          "output_type": "display_data"
        }
      ],
      "source": [
        "sns.heatmap(df_int.corr());"
      ]
    },
    {
      "cell_type": "markdown",
      "id": "1f112414",
      "metadata": {
        "id": "1f112414"
      },
      "source": [
        "## Linear Regression"
      ]
    },
    {
      "cell_type": "code",
      "execution_count": null,
      "id": "5de61cef",
      "metadata": {
        "id": "5de61cef",
        "outputId": "548230e6-a7b0-413b-931b-1a4b3c178fac"
      },
      "outputs": [
        {
          "data": {
            "text/plain": [
              "array([3.11762152e+08, 2.51684163e+08, 2.89425094e+08, 4.29117282e+08,\n",
              "       3.98673072e+08, 2.96653126e+08, 2.61531090e+08, 3.02035801e+08,\n",
              "       2.39205769e+08, 2.86022951e+08])"
            ]
          },
          "execution_count": 9,
          "metadata": {},
          "output_type": "execute_result"
        }
      ],
      "source": [
        "# Define cross-validation folds\n",
        "cv = KFold(n_splits=10, shuffle=True, random_state=42)\n",
        "lin_reg = LinearRegression().fit(X_train_scaled, y_train)\n",
        "lr_scores = -1 * cross_val_score(lin_reg,\n",
        "                                 X_train_scaled,\n",
        "                                 y_train,\n",
        "                                 cv=cv,\n",
        "                                 scoring='neg_root_mean_squared_error')\n",
        "lr_scores"
      ]
    },
    {
      "cell_type": "code",
      "execution_count": null,
      "id": "ccf3bf7f",
      "metadata": {
        "id": "ccf3bf7f",
        "outputId": "eea92d61-13b5-41eb-e29f-95e0b8b09e4a"
      },
      "outputs": [
        {
          "data": {
            "text/plain": [
              "306611049.9236315"
            ]
          },
          "execution_count": 10,
          "metadata": {},
          "output_type": "execute_result"
        }
      ],
      "source": [
        "lr_score_train = np.mean(lr_scores)\n",
        "lr_score_train"
      ]
    },
    {
      "cell_type": "code",
      "execution_count": null,
      "id": "85fae98a",
      "metadata": {
        "scrolled": true,
        "id": "85fae98a",
        "outputId": "5647626a-ebff-4f67-b1ff-ac5a4bc39a73"
      },
      "outputs": [
        {
          "data": {
            "text/plain": [
              "292774138.39436185"
            ]
          },
          "execution_count": 11,
          "metadata": {},
          "output_type": "execute_result"
        }
      ],
      "source": [
        "y_predicted = lin_reg.predict(X_test_scaled)\n",
        "lr_score_test = mean_squared_error(y_test, y_predicted, squared=False) # RMSE instead of MSE\n",
        "lr_score_test"
      ]
    },
    {
      "cell_type": "markdown",
      "id": "2096dc83",
      "metadata": {
        "id": "2096dc83"
      },
      "source": [
        "## Lasso Regression"
      ]
    },
    {
      "cell_type": "code",
      "execution_count": null,
      "id": "2d0abe41",
      "metadata": {
        "id": "2d0abe41",
        "outputId": "da95b91a-e8bd-4d68-f052-1454b7bccaf4"
      },
      "outputs": [
        {
          "data": {
            "text/plain": [
              "0.7434895538017922"
            ]
          },
          "execution_count": 12,
          "metadata": {},
          "output_type": "execute_result"
        }
      ],
      "source": [
        "lasso_reg = LassoCV().fit(X_train_scaled, y_train)\n",
        "lasso_reg.score(X_train_scaled, y_train)"
      ]
    },
    {
      "cell_type": "code",
      "execution_count": null,
      "id": "68e5975a",
      "metadata": {
        "scrolled": true,
        "id": "68e5975a",
        "outputId": "ed837a39-b390-4d36-a37a-fb841fbdb892"
      },
      "outputs": [
        {
          "data": {
            "text/plain": [
              "array([3.12696685e+08, 2.51908573e+08, 2.91669961e+08, 4.20548511e+08,\n",
              "       3.99722875e+08, 2.96485713e+08, 2.63241955e+08, 3.01628235e+08,\n",
              "       2.38093000e+08, 2.87350535e+08])"
            ]
          },
          "execution_count": 13,
          "metadata": {},
          "output_type": "execute_result"
        }
      ],
      "source": [
        "lasso_scores = -1 * cross_val_score(lasso_reg,\n",
        "                                    X_train_scaled,\n",
        "                                    y_train,\n",
        "                                    cv=cv,\n",
        "                                    scoring='neg_root_mean_squared_error')\n",
        "lasso_scores"
      ]
    },
    {
      "cell_type": "code",
      "execution_count": null,
      "id": "666ae700",
      "metadata": {
        "scrolled": true,
        "id": "666ae700",
        "outputId": "fa35a8a6-5be3-4af5-ab2b-88b0b91b4715"
      },
      "outputs": [
        {
          "data": {
            "text/plain": [
              "306334604.1899403"
            ]
          },
          "execution_count": 14,
          "metadata": {},
          "output_type": "execute_result"
        }
      ],
      "source": [
        "lasso_score_train = np.mean(lasso_scores)\n",
        "lasso_score_train"
      ]
    },
    {
      "cell_type": "code",
      "execution_count": null,
      "id": "9a6bd448",
      "metadata": {
        "scrolled": true,
        "id": "9a6bd448",
        "outputId": "1f5ff8ea-7dfc-4421-f7c5-b8d36287ebea"
      },
      "outputs": [
        {
          "data": {
            "text/plain": [
              "290567654.3203313"
            ]
          },
          "execution_count": 15,
          "metadata": {},
          "output_type": "execute_result"
        }
      ],
      "source": [
        "y_predicted = lasso_reg.predict(X_test_scaled)\n",
        "lasso_score_test = mean_squared_error(y_test, y_predicted, squared=False)\n",
        "lasso_score_test"
      ]
    },
    {
      "cell_type": "markdown",
      "id": "8d104d98",
      "metadata": {
        "id": "8d104d98"
      },
      "source": [
        "## Ridge Regression"
      ]
    },
    {
      "cell_type": "code",
      "execution_count": null,
      "id": "56206719",
      "metadata": {
        "scrolled": true,
        "id": "56206719",
        "outputId": "cf1a4a1e-b5e6-4b22-da89-643869e01d2c"
      },
      "outputs": [
        {
          "data": {
            "text/plain": [
              "0.7441327442217962"
            ]
          },
          "execution_count": 16,
          "metadata": {},
          "output_type": "execute_result"
        }
      ],
      "source": [
        "ridge_reg = RidgeCV().fit(X_train_scaled, y_train)\n",
        "ridge_reg.score(X_train_scaled, y_train)"
      ]
    },
    {
      "cell_type": "code",
      "execution_count": null,
      "id": "f0549769",
      "metadata": {
        "id": "f0549769",
        "outputId": "4bcd6af0-1781-4c43-87e2-879879a3a98b"
      },
      "outputs": [
        {
          "data": {
            "text/plain": [
              "array([3.12991306e+08, 2.50680919e+08, 2.89906763e+08, 4.19520205e+08,\n",
              "       3.99433513e+08, 2.97085412e+08, 2.62860604e+08, 3.02292178e+08,\n",
              "       2.39762727e+08, 2.86702196e+08])"
            ]
          },
          "execution_count": 17,
          "metadata": {},
          "output_type": "execute_result"
        }
      ],
      "source": [
        "ridge_scores = -1 * cross_val_score(ridge_reg,\n",
        "                                    X_train_scaled,\n",
        "                                    y_train,\n",
        "                                    cv=cv,\n",
        "                                    scoring='neg_root_mean_squared_error')\n",
        "ridge_scores"
      ]
    },
    {
      "cell_type": "code",
      "execution_count": null,
      "id": "c7e7d0fc",
      "metadata": {
        "id": "c7e7d0fc",
        "outputId": "bc529e1c-132d-4a59-8439-f0b5bac83511"
      },
      "outputs": [
        {
          "data": {
            "text/plain": [
              "306123582.2034484"
            ]
          },
          "execution_count": 18,
          "metadata": {},
          "output_type": "execute_result"
        }
      ],
      "source": [
        "ridge_score_train = np.mean(ridge_scores)\n",
        "ridge_score_train"
      ]
    },
    {
      "cell_type": "code",
      "execution_count": null,
      "id": "3fbd00f8",
      "metadata": {
        "scrolled": true,
        "id": "3fbd00f8",
        "outputId": "5deec569-12d0-4cf2-d742-5f35fb9e5e04"
      },
      "outputs": [
        {
          "data": {
            "text/plain": [
              "291044543.134423"
            ]
          },
          "execution_count": 19,
          "metadata": {},
          "output_type": "execute_result"
        }
      ],
      "source": [
        "y_predicted = ridge_reg.predict(X_test_scaled)\n",
        "ridge_score_test = mean_squared_error(y_test, y_predicted, squared=False)\n",
        "ridge_score_test"
      ]
    },
    {
      "cell_type": "markdown",
      "id": "688edb97",
      "metadata": {
        "id": "688edb97"
      },
      "source": [
        "## Principal Components Regression"
      ]
    },
    {
      "cell_type": "code",
      "execution_count": null,
      "id": "445a251e",
      "metadata": {
        "id": "445a251e"
      },
      "outputs": [],
      "source": [
        "lin_reg = LinearRegression()\n",
        "rmse_list = []"
      ]
    },
    {
      "cell_type": "code",
      "execution_count": null,
      "id": "9efbd2e9",
      "metadata": {
        "id": "9efbd2e9",
        "outputId": "eb750d0a-5d30-486c-a4e2-3d5c0a34678e"
      },
      "outputs": [
        {
          "data": {
            "text/plain": [
              "(761, 17)"
            ]
          },
          "execution_count": 21,
          "metadata": {},
          "output_type": "execute_result"
        }
      ],
      "source": [
        "# First generate all the principal components\n",
        "pca = PCA()\n",
        "X_train_pc = pca.fit_transform(X_train_scaled)\n",
        "X_train_pc.shape"
      ]
    },
    {
      "cell_type": "code",
      "execution_count": null,
      "id": "e6cb83ae",
      "metadata": {
        "id": "e6cb83ae",
        "outputId": "efab6d1d-2168-45c0-e205-4686e251bd5b"
      },
      "outputs": [
        {
          "data": {
            "text/plain": [
              "array([0.16125949, 0.13096474, 0.08690829, 0.07217323, 0.06842345,\n",
              "       0.06294002, 0.06031221, 0.05940159, 0.05396414, 0.04856462,\n",
              "       0.04451451, 0.03849705, 0.03306171, 0.03092118, 0.0199541 ,\n",
              "       0.01777735, 0.01036234])"
            ]
          },
          "execution_count": 22,
          "metadata": {},
          "output_type": "execute_result"
        }
      ],
      "source": [
        "# View explained variance ratio for each principal component\n",
        "pca.explained_variance_ratio_"
      ]
    },
    {
      "cell_type": "code",
      "execution_count": null,
      "id": "1b8ed168",
      "metadata": {
        "scrolled": true,
        "id": "1b8ed168",
        "outputId": "bf70c1a8-c733-4a0f-b5f1-56c708de9152"
      },
      "outputs": [
        {
          "data": {
            "text/html": [
              "<div>\n",
              "<style scoped>\n",
              "    .dataframe tbody tr th:only-of-type {\n",
              "        vertical-align: middle;\n",
              "    }\n",
              "\n",
              "    .dataframe tbody tr th {\n",
              "        vertical-align: top;\n",
              "    }\n",
              "\n",
              "    .dataframe thead th {\n",
              "        text-align: right;\n",
              "    }\n",
              "</style>\n",
              "<table border=\"1\" class=\"dataframe\">\n",
              "  <thead>\n",
              "    <tr style=\"text-align: right;\">\n",
              "      <th></th>\n",
              "      <th>0</th>\n",
              "      <th>1</th>\n",
              "      <th>2</th>\n",
              "      <th>3</th>\n",
              "      <th>4</th>\n",
              "      <th>5</th>\n",
              "      <th>6</th>\n",
              "      <th>7</th>\n",
              "      <th>8</th>\n",
              "      <th>9</th>\n",
              "      <th>10</th>\n",
              "      <th>11</th>\n",
              "      <th>12</th>\n",
              "      <th>13</th>\n",
              "      <th>14</th>\n",
              "      <th>15</th>\n",
              "      <th>16</th>\n",
              "    </tr>\n",
              "  </thead>\n",
              "  <tbody>\n",
              "    <tr>\n",
              "      <th>0</th>\n",
              "      <td>-0.045321</td>\n",
              "      <td>-0.264018</td>\n",
              "      <td>-0.072833</td>\n",
              "      <td>-0.232003</td>\n",
              "      <td>0.059674</td>\n",
              "      <td>-0.081004</td>\n",
              "      <td>0.513003</td>\n",
              "      <td>0.128890</td>\n",
              "      <td>0.430764</td>\n",
              "      <td>-0.229295</td>\n",
              "      <td>0.567692</td>\n",
              "      <td>0.018891</td>\n",
              "      <td>-0.128389</td>\n",
              "      <td>-0.019022</td>\n",
              "      <td>-0.002436</td>\n",
              "      <td>0.018376</td>\n",
              "      <td>0.035355</td>\n",
              "    </tr>\n",
              "    <tr>\n",
              "      <th>1</th>\n",
              "      <td>-0.111061</td>\n",
              "      <td>-0.317579</td>\n",
              "      <td>0.462198</td>\n",
              "      <td>0.061242</td>\n",
              "      <td>0.032521</td>\n",
              "      <td>0.027989</td>\n",
              "      <td>0.012507</td>\n",
              "      <td>0.033667</td>\n",
              "      <td>-0.276389</td>\n",
              "      <td>0.064510</td>\n",
              "      <td>0.109079</td>\n",
              "      <td>-0.580555</td>\n",
              "      <td>-0.148928</td>\n",
              "      <td>-0.411661</td>\n",
              "      <td>0.172323</td>\n",
              "      <td>0.068989</td>\n",
              "      <td>0.103474</td>\n",
              "    </tr>\n",
              "    <tr>\n",
              "      <th>2</th>\n",
              "      <td>-0.077655</td>\n",
              "      <td>0.046972</td>\n",
              "      <td>0.219478</td>\n",
              "      <td>-0.150849</td>\n",
              "      <td>0.563298</td>\n",
              "      <td>0.283881</td>\n",
              "      <td>0.286435</td>\n",
              "      <td>-0.071008</td>\n",
              "      <td>0.128941</td>\n",
              "      <td>-0.366287</td>\n",
              "      <td>-0.518616</td>\n",
              "      <td>0.007460</td>\n",
              "      <td>0.040478</td>\n",
              "      <td>0.026176</td>\n",
              "      <td>0.100498</td>\n",
              "      <td>0.000839</td>\n",
              "      <td>0.060191</td>\n",
              "    </tr>\n",
              "    <tr>\n",
              "      <th>3</th>\n",
              "      <td>0.014892</td>\n",
              "      <td>-0.088714</td>\n",
              "      <td>0.213816</td>\n",
              "      <td>-0.145992</td>\n",
              "      <td>0.364883</td>\n",
              "      <td>0.466585</td>\n",
              "      <td>-0.528221</td>\n",
              "      <td>-0.084468</td>\n",
              "      <td>0.036867</td>\n",
              "      <td>0.098761</td>\n",
              "      <td>0.445963</td>\n",
              "      <td>0.227157</td>\n",
              "      <td>-0.058939</td>\n",
              "      <td>0.146314</td>\n",
              "      <td>0.013392</td>\n",
              "      <td>0.015459</td>\n",
              "      <td>0.031411</td>\n",
              "    </tr>\n",
              "    <tr>\n",
              "      <th>4</th>\n",
              "      <td>0.388269</td>\n",
              "      <td>0.214638</td>\n",
              "      <td>-0.398260</td>\n",
              "      <td>-0.121496</td>\n",
              "      <td>0.158130</td>\n",
              "      <td>0.092004</td>\n",
              "      <td>0.061413</td>\n",
              "      <td>0.090952</td>\n",
              "      <td>-0.087549</td>\n",
              "      <td>0.182784</td>\n",
              "      <td>0.067605</td>\n",
              "      <td>-0.166667</td>\n",
              "      <td>0.014230</td>\n",
              "      <td>-0.056728</td>\n",
              "      <td>0.452178</td>\n",
              "      <td>-0.066190</td>\n",
              "      <td>0.546445</td>\n",
              "    </tr>\n",
              "  </tbody>\n",
              "</table>\n",
              "</div>"
            ],
            "text/plain": [
              "         0         1         2         3         4         5         6   \\\n",
              "0 -0.045321 -0.264018 -0.072833 -0.232003  0.059674 -0.081004  0.513003   \n",
              "1 -0.111061 -0.317579  0.462198  0.061242  0.032521  0.027989  0.012507   \n",
              "2 -0.077655  0.046972  0.219478 -0.150849  0.563298  0.283881  0.286435   \n",
              "3  0.014892 -0.088714  0.213816 -0.145992  0.364883  0.466585 -0.528221   \n",
              "4  0.388269  0.214638 -0.398260 -0.121496  0.158130  0.092004  0.061413   \n",
              "\n",
              "         7         8         9         10        11        12        13  \\\n",
              "0  0.128890  0.430764 -0.229295  0.567692  0.018891 -0.128389 -0.019022   \n",
              "1  0.033667 -0.276389  0.064510  0.109079 -0.580555 -0.148928 -0.411661   \n",
              "2 -0.071008  0.128941 -0.366287 -0.518616  0.007460  0.040478  0.026176   \n",
              "3 -0.084468  0.036867  0.098761  0.445963  0.227157 -0.058939  0.146314   \n",
              "4  0.090952 -0.087549  0.182784  0.067605 -0.166667  0.014230 -0.056728   \n",
              "\n",
              "         14        15        16  \n",
              "0 -0.002436  0.018376  0.035355  \n",
              "1  0.172323  0.068989  0.103474  \n",
              "2  0.100498  0.000839  0.060191  \n",
              "3  0.013392  0.015459  0.031411  \n",
              "4  0.452178 -0.066190  0.546445  "
            ]
          },
          "execution_count": 23,
          "metadata": {},
          "output_type": "execute_result"
        }
      ],
      "source": [
        "# View first 5 rows of all principal components\n",
        "pd.DataFrame(pca.components_.T).loc[:4,:]"
      ]
    },
    {
      "cell_type": "code",
      "execution_count": null,
      "id": "810025c8",
      "metadata": {
        "id": "810025c8"
      },
      "outputs": [],
      "source": [
        "for i in range(1, X_train_pc.shape[1]+1):\n",
        "    rmse_score = -1 * cross_val_score(lin_reg,\n",
        "                                      X_train_pc[:,:i], # Use first k principal components\n",
        "                                      y_train,\n",
        "                                      cv=cv,\n",
        "                                      scoring='neg_root_mean_squared_error').mean()\n",
        "    rmse_list.append(rmse_score)"
      ]
    },
    {
      "cell_type": "code",
      "execution_count": null,
      "id": "ea034a7b",
      "metadata": {
        "scrolled": true,
        "id": "ea034a7b",
        "outputId": "fa70bd43-a984-45f3-cedf-356fa1f08e4e"
      },
      "outputs": [
        {
          "data": {
            "text/plain": [
              "[439900754.98953897,\n",
              " 411054233.99487406,\n",
              " 384649918.5826704,\n",
              " 374065958.9847132,\n",
              " 361661108.0407079,\n",
              " 352974787.0669968,\n",
              " 353524504.0756589,\n",
              " 352277322.659775,\n",
              " 349399098.02062434,\n",
              " 342332723.7294415,\n",
              " 341855151.663242,\n",
              " 318209951.30955154,\n",
              " 318940801.73853666,\n",
              " 316657972.73308307,\n",
              " 303356423.8995058,\n",
              " 303900909.4137385,\n",
              " 306611049.9236315]"
            ]
          },
          "execution_count": 25,
          "metadata": {},
          "output_type": "execute_result"
        }
      ],
      "source": [
        "rmse_list"
      ]
    },
    {
      "cell_type": "code",
      "execution_count": null,
      "id": "21c2bfe2",
      "metadata": {
        "scrolled": true,
        "id": "21c2bfe2",
        "outputId": "95d289d5-8d39-47f7-c0a6-79ff2efd548b"
      },
      "outputs": [
        {
          "data": {
            "image/png": "[encoded data removed]",
            "text/plain": [
              "<Figure size 432x288 with 1 Axes>"
            ]
          },
          "metadata": {
            "needs_background": "light"
          },
          "output_type": "display_data"
        }
      ],
      "source": [
        "# Plot RMSE vs count of principal components used\n",
        "plt.plot(rmse_list, '-o')\n",
        "plt.xlabel('Number of principal components in regression')\n",
        "plt.ylabel('Cross-Validation RMSE')\n",
        "plt.title('Streams')\n",
        "plt.xlim(xmin=-1);\n",
        "plt.xticks(np.arange(X_train_pc.shape[1]), np.arange(1, X_train_pc.shape[1]+1))\n",
        "plt.axhline(y=lr_score_train, color='g', linestyle='-');"
      ]
    },
    {
      "cell_type": "code",
      "execution_count": null,
      "id": "43fb7278",
      "metadata": {
        "id": "43fb7278"
      },
      "outputs": [],
      "source": [
        "# Visually determine optimal number of principal components\n",
        "best_pc_num = 15"
      ]
    },
    {
      "cell_type": "code",
      "execution_count": null,
      "id": "77d9e0d3",
      "metadata": {
        "id": "77d9e0d3"
      },
      "outputs": [],
      "source": [
        "# Train model on training set\n",
        "lin_reg_pc = LinearRegression().fit(X_train_pc[:,:best_pc_num], y_train)"
      ]
    },
    {
      "cell_type": "code",
      "execution_count": null,
      "id": "b49d9677",
      "metadata": {
        "id": "b49d9677",
        "outputId": "83e8488a-a3b3-45f4-8875-0cef13d8ac17"
      },
      "outputs": [
        {
          "data": {
            "text/plain": [
              "0.6531428721014714"
            ]
          },
          "execution_count": 29,
          "metadata": {},
          "output_type": "execute_result"
        }
      ],
      "source": [
        "# Get R2 score\n",
        "lin_reg_pc.score(X_train_pc[:,:best_pc_num], y_train)"
      ]
    },
    {
      "cell_type": "code",
      "execution_count": null,
      "id": "98b7543b",
      "metadata": {
        "id": "98b7543b",
        "outputId": "ddfa00a9-6118-4dfb-8ce4-320631c5a756"
      },
      "outputs": [
        {
          "data": {
            "text/plain": [
              "349399098.02062434"
            ]
          },
          "execution_count": 30,
          "metadata": {},
          "output_type": "execute_result"
        }
      ],
      "source": [
        "pcr_score_train = -1 * cross_val_score(lin_reg_pc,\n",
        "                                       X_train_pc[:,:best_pc_num],\n",
        "                                       y_train,\n",
        "                                       cv=cv,\n",
        "                                       scoring='neg_root_mean_squared_error').mean()\n",
        "pcr_score_train"
      ]
    },
    {
      "cell_type": "code",
      "execution_count": null,
      "id": "8350c3e3",
      "metadata": {
        "id": "8350c3e3",
        "outputId": "658bb6b3-dac7-4e33-9a51-cf28f30b2f81"
      },
      "outputs": [
        {
          "data": {
            "text/plain": [
              "(191, 9)"
            ]
          },
          "execution_count": 31,
          "metadata": {},
          "output_type": "execute_result"
        }
      ],
      "source": [
        "# Get principal components of test set\n",
        "X_test_pc = pca.transform(X_test_scaled)[:,:best_pc_num]\n",
        "X_test_pc.shape"
      ]
    },
    {
      "cell_type": "code",
      "execution_count": null,
      "id": "ec48b43b",
      "metadata": {
        "id": "ec48b43b",
        "outputId": "a0929ed4-f13d-4a95-9dab-55d6aa3ee0f8"
      },
      "outputs": [
        {
          "data": {
            "text/plain": [
              "314298315.755468"
            ]
          },
          "execution_count": 32,
          "metadata": {},
          "output_type": "execute_result"
        }
      ],
      "source": [
        "# Predict on test data\n",
        "preds = lin_reg_pc.predict(X_test_pc)\n",
        "pcr_score_test = mean_squared_error(y_test, preds, squared=False)\n",
        "pcr_score_test"
      ]
    },
    {
      "cell_type": "markdown",
      "id": "07c279b1",
      "metadata": {
        "id": "07c279b1"
      },
      "source": [
        "## Evaluation"
      ]
    },
    {
      "cell_type": "code",
      "execution_count": null,
      "id": "ea0f18da",
      "metadata": {
        "id": "ea0f18da",
        "outputId": "f3dd7632-e25c-418d-e5b7-7ae9aa8d71cd"
      },
      "outputs": [
        {
          "data": {
            "text/html": [
              "<div>\n",
              "<style scoped>\n",
              "    .dataframe tbody tr th:only-of-type {\n",
              "        vertical-align: middle;\n",
              "    }\n",
              "\n",
              "    .dataframe tbody tr th {\n",
              "        vertical-align: top;\n",
              "    }\n",
              "\n",
              "    .dataframe thead th {\n",
              "        text-align: right;\n",
              "    }\n",
              "</style>\n",
              "<table border=\"1\" class=\"dataframe\">\n",
              "  <thead>\n",
              "    <tr style=\"text-align: right;\">\n",
              "      <th></th>\n",
              "      <th>RMSE (Train Set)</th>\n",
              "    </tr>\n",
              "  </thead>\n",
              "  <tbody>\n",
              "    <tr>\n",
              "      <th>Linear Regression</th>\n",
              "      <td>3.066110e+08</td>\n",
              "    </tr>\n",
              "    <tr>\n",
              "      <th>Lasso Regression</th>\n",
              "      <td>3.063346e+08</td>\n",
              "    </tr>\n",
              "    <tr>\n",
              "      <th>Ridge Regression</th>\n",
              "      <td>3.061236e+08</td>\n",
              "    </tr>\n",
              "    <tr>\n",
              "      <th>PCR (15 components)</th>\n",
              "      <td>3.493991e+08</td>\n",
              "    </tr>\n",
              "  </tbody>\n",
              "</table>\n",
              "</div>"
            ],
            "text/plain": [
              "                     RMSE (Train Set)\n",
              "Linear Regression        3.066110e+08\n",
              "Lasso Regression         3.063346e+08\n",
              "Ridge Regression         3.061236e+08\n",
              "PCR (15 components)      3.493991e+08"
            ]
          },
          "execution_count": 34,
          "metadata": {},
          "output_type": "execute_result"
        }
      ],
      "source": [
        "train_metrics = np.array([round(lr_score_train,3),\n",
        "                          round(lasso_score_train,3),\n",
        "                          round(ridge_score_train,3),\n",
        "                          round(pcr_score_train,3)])\n",
        "train_metrics = pd.DataFrame(train_metrics, columns=['RMSE (Train Set)'])\n",
        "train_metrics.index = ['Linear Regression',\n",
        "                       'Lasso Regression',\n",
        "                       'Ridge Regression',\n",
        "                       f'PCR ({15} components)']\n",
        "train_metrics"
      ]
    },
    {
      "cell_type": "code",
      "execution_count": null,
      "id": "fe354a96",
      "metadata": {
        "id": "fe354a96",
        "outputId": "be28fe7a-ee18-4a84-de30-b5b91eae0a7a"
      },
      "outputs": [
        {
          "data": {
            "text/html": [
              "<div>\n",
              "<style scoped>\n",
              "    .dataframe tbody tr th:only-of-type {\n",
              "        vertical-align: middle;\n",
              "    }\n",
              "\n",
              "    .dataframe tbody tr th {\n",
              "        vertical-align: top;\n",
              "    }\n",
              "\n",
              "    .dataframe thead th {\n",
              "        text-align: right;\n",
              "    }\n",
              "</style>\n",
              "<table border=\"1\" class=\"dataframe\">\n",
              "  <thead>\n",
              "    <tr style=\"text-align: right;\">\n",
              "      <th></th>\n",
              "      <th>RMSE (Test Set)</th>\n",
              "    </tr>\n",
              "  </thead>\n",
              "  <tbody>\n",
              "    <tr>\n",
              "      <th>Linear Regression</th>\n",
              "      <td>2.927741e+08</td>\n",
              "    </tr>\n",
              "    <tr>\n",
              "      <th>Lasso Regression</th>\n",
              "      <td>2.905677e+08</td>\n",
              "    </tr>\n",
              "    <tr>\n",
              "      <th>Ridge Regression</th>\n",
              "      <td>2.910445e+08</td>\n",
              "    </tr>\n",
              "    <tr>\n",
              "      <th>PCR (15 components)</th>\n",
              "      <td>3.142983e+08</td>\n",
              "    </tr>\n",
              "  </tbody>\n",
              "</table>\n",
              "</div>"
            ],
            "text/plain": [
              "                     RMSE (Test Set)\n",
              "Linear Regression       2.927741e+08\n",
              "Lasso Regression        2.905677e+08\n",
              "Ridge Regression        2.910445e+08\n",
              "PCR (15 components)     3.142983e+08"
            ]
          },
          "execution_count": 36,
          "metadata": {},
          "output_type": "execute_result"
        }
      ],
      "source": [
        "test_metrics = np.array([round(lr_score_test,3),\n",
        "                         round(lasso_score_test,3),\n",
        "                         round(ridge_score_test,3),\n",
        "                         round(pcr_score_test,3)])\n",
        "test_metrics = pd.DataFrame(test_metrics, columns=['RMSE (Test Set)'])\n",
        "test_metrics.index = ['Linear Regression',\n",
        "                      'Lasso Regression',\n",
        "                      'Ridge Regression',\n",
        "                      f'PCR ({15} components)']\n",
        "test_metrics"
      ]
    },
    {
      "cell_type": "code",
      "execution_count": null,
      "id": "42fbc566",
      "metadata": {
        "id": "42fbc566"
      },
      "outputs": [],
      "source": []
    }
  ],
  "metadata": {
    "kernelspec": {
      "display_name": "Python 3 (ipykernel)",
      "language": "python",
      "name": "python3"
    },
    "language_info": {
      "codemirror_mode": {
        "name": "ipython",
        "version": 3
      },
      "file_extension": ".py",
      "mimetype": "text/x-python",
      "name": "python",
      "nbconvert_exporter": "python",
      "pygments_lexer": "ipython3",
      "version": "3.9.12"
    },
    "colab": {
      "provenance": []
    }
  },
  "nbformat": 4,
  "nbformat_minor": 5
}